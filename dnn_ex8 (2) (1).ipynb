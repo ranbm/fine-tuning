{
 "cells": [
  {
   "cell_type": "markdown",
   "metadata": {
    "colab_type": "text",
    "id": "gTNoK0exKoIj"
   },
   "source": [
    "# Deep Learning: Ex.8 - Fine Tuning\n",
    "\n",
    "Submitted by: [... **Ran Ben-Melech** ...]\n"
   ]
  },
  {
   "cell_type": "code",
   "execution_count": 2,
   "metadata": {
    "colab": {
     "base_uri": "https://localhost:8080/",
     "height": 109
    },
    "colab_type": "code",
    "id": "3kKxL9k5KoIl",
    "outputId": "ad7cba32-e3d1-425c-bb9c-57b8ca104a45"
   },
   "outputs": [
    {
     "name": "stdout",
     "output_type": "stream",
     "text": [
      "2.2.0-rc4\n"
     ]
    },
    {
     "name": "stderr",
     "output_type": "stream",
     "text": [
      "/usr/local/lib/python3.6/dist-packages/statsmodels/tools/_testing.py:19: FutureWarning: pandas.util.testing is deprecated. Use the functions in the public API at pandas.testing instead.\n",
      "  import pandas.util.testing as tm\n",
      "Using TensorFlow backend.\n"
     ]
    }
   ],
   "source": [
    "# TensorFlow and tf.keras\n",
    "import tensorflow as tf\n",
    "from tensorflow import keras\n",
    "\n",
    "# Helper libraries\n",
    "import numpy as np\n",
    "import matplotlib.pyplot as plt\n",
    "from tensorflow.keras.models import Sequential\n",
    "from tensorflow.keras import layers\n",
    "from sklearn.metrics import confusion_matrix\n",
    "from seaborn import heatmap \n",
    "from keras.preprocessing.image import ImageDataGenerator\n",
    "from keras.applications import VGG16\n",
    "print(tf.__version__)"
   ]
  },
  {
   "cell_type": "code",
   "execution_count": null,
   "metadata": {
    "colab": {},
    "colab_type": "code",
    "id": "3B1QZV3bL9Pa"
   },
   "outputs": [],
   "source": [
    "def makeLossGraph(history):\n",
    "    plt.title(\"loss\",fontsize=30)\n",
    "    plt.xlabel('epochs', fontsize=20)\n",
    "    plt.ylabel('loss', fontsize=20,rotation='horizontal',position=(0,0.45))\n",
    "    plt.plot(history.history['loss'],'r',label='train loss',LineWidth=2)\n",
    "    plt.plot(history.history['val_loss'],'b',label='validation loss',LineWidth=2) \n",
    "    plt.grid()\n",
    "    plt.legend()\n",
    "    return"
   ]
  },
  {
   "cell_type": "code",
   "execution_count": null,
   "metadata": {
    "colab": {},
    "colab_type": "code",
    "id": "b0e8TAQ5L9S8"
   },
   "outputs": [],
   "source": [
    "def makeAccGraph(history):\n",
    "    plt.title(\"accuracy\",fontsize=30)\n",
    "    plt.xlabel('epochs', fontsize=20)\n",
    "    plt.ylabel('acc', fontsize=20,rotation='horizontal',position=(0,0.43))\n",
    "    plt.plot(history.history['accuracy'],'r',LineWidth=2)\n",
    "    plt.plot(history.history['val_accuracy'],'b',LineWidth=2)\n",
    "    plt.grid()\n",
    "    plt.legend()\n",
    "    plt.show()\n",
    "    return"
   ]
  },
  {
   "cell_type": "code",
   "execution_count": null,
   "metadata": {
    "colab": {},
    "colab_type": "code",
    "id": "vzE7Ziz7L9WV"
   },
   "outputs": [],
   "source": [
    "def makeCM(preds):\n",
    "   \n",
    "    yhat = np.argmax(preds,axis=1)\n",
    "    cm = confusion_matrix(test_labels, yhat)\n",
    "    cm = cm / cm.sum(axis=1)\n",
    "    plt.figure(figsize=(10,8))\n",
    "    plt.title(\"confusion matrix:\",fontsize=30)\n",
    "    heatmap(cm,cmap='Blues',annot=True, fmt='.0%', xticklabels=class_names, yticklabels=class_names)\n",
    "    plt.xlabel('Predicted label', fontsize=20)\n",
    "    plt.ylabel('True label', fontsize=20)\n",
    "    plt.show()\n",
    "    return"
   ]
  },
  {
   "cell_type": "markdown",
   "metadata": {
    "colab_type": "text",
    "id": "QEf2Ps4FKoIq"
   },
   "source": [
    "***\n",
    "### 1. Create the model\n",
    "\n",
    "Load the pre-trained VGG16 model without its \"classifier top\".\n",
    "\n",
    "- Create a new `Sequential` model\n",
    "- add the top-less VGG16 as its first layer\n",
    "- add a new top: `Flatten`(), 256-`Dense` (ReLU), `Dropout`(0.5), 17-`Dense` (Softmax)\n",
    "- freeze the first layer (the original VGG16)\n",
    "- print the model summary\n",
    "- how many trainable parameters you have?"
   ]
  },
  {
   "cell_type": "code",
   "execution_count": 6,
   "metadata": {
    "colab": {
     "base_uri": "https://localhost:8080/",
     "height": 415
    },
    "colab_type": "code",
    "id": "yJtsbl_5Sirg",
    "outputId": "d1beccbb-5d41-4a95-95ec-0be330c71ec0"
   },
   "outputs": [
    {
     "name": "stdout",
     "output_type": "stream",
     "text": [
      "Downloading data from https://storage.googleapis.com/tensorflow/keras-applications/vgg16/vgg16_weights_tf_dim_ordering_tf_kernels_notop.h5\n",
      "58892288/58889256 [==============================] - 0s 0us/step\n",
      "0 \t InputLayer \t True\n",
      "1 \t Conv2D \t True\n",
      "2 \t Conv2D \t True\n",
      "3 \t MaxPooling2D \t True\n",
      "4 \t Conv2D \t True\n",
      "5 \t Conv2D \t True\n",
      "6 \t MaxPooling2D \t True\n",
      "7 \t Conv2D \t True\n",
      "8 \t Conv2D \t True\n",
      "9 \t Conv2D \t True\n",
      "10 \t MaxPooling2D \t True\n",
      "11 \t Conv2D \t True\n",
      "12 \t Conv2D \t True\n",
      "13 \t Conv2D \t True\n",
      "14 \t MaxPooling2D \t True\n",
      "15 \t Conv2D \t True\n",
      "16 \t Conv2D \t True\n",
      "17 \t Conv2D \t True\n",
      "18 \t MaxPooling2D \t True\n"
     ]
    }
   ],
   "source": [
    "from tensorflow.keras.applications import VGG16\n",
    "\n",
    "# VGG16 was designed to work on 224 x 224 pixel input images sizes\n",
    "img_rows = 224\n",
    "img_cols = 224 \n",
    "\n",
    "# Re-loads the VGG16 model without the top or FC layers\n",
    "vgg = VGG16(weights = 'imagenet', include_top = False,input_shape = (img_rows, img_cols, 3))\n",
    "\n",
    "for (i,layer) in enumerate(vgg.layers):\n",
    "    print(str(i),'\\t', layer.__class__.__name__, '\\t',layer.trainable)\n"
   ]
  },
  {
   "cell_type": "code",
   "execution_count": null,
   "metadata": {
    "colab": {},
    "colab_type": "code",
    "id": "7lB-46UpKoIr"
   },
   "outputs": [],
   "source": [
    "def makeVGG16():\n",
    "    model = Sequential()\n",
    "    model.add(vgg)\n",
    "    model.add(layers.Flatten())\n",
    "    model.add(layers.Dense(256, activation='relu')) \n",
    "    model.add(layers.Dropout(0.5)) \n",
    "    model.add(layers.Dense(17, activation='softmax'))\n",
    "    return model\n"
   ]
  },
  {
   "cell_type": "code",
   "execution_count": 8,
   "metadata": {
    "colab": {
     "base_uri": "https://localhost:8080/",
     "height": 341
    },
    "colab_type": "code",
    "id": "vqv-7SN2OUWt",
    "outputId": "f4e52157-b2bc-43da-ab18-ef343f020d64"
   },
   "outputs": [
    {
     "name": "stdout",
     "output_type": "stream",
     "text": [
      "Model: \"sequential\"\n",
      "_________________________________________________________________\n",
      "Layer (type)                 Output Shape              Param #   \n",
      "=================================================================\n",
      "vgg16 (Model)                (None, 7, 7, 512)         14714688  \n",
      "_________________________________________________________________\n",
      "flatten (Flatten)            (None, 25088)             0         \n",
      "_________________________________________________________________\n",
      "dense (Dense)                (None, 256)               6422784   \n",
      "_________________________________________________________________\n",
      "dropout (Dropout)            (None, 256)               0         \n",
      "_________________________________________________________________\n",
      "dense_1 (Dense)              (None, 17)                4369      \n",
      "=================================================================\n",
      "Total params: 21,141,841\n",
      "Trainable params: 6,427,153\n",
      "Non-trainable params: 14,714,688\n",
      "_________________________________________________________________\n"
     ]
    }
   ],
   "source": [
    "\n",
    "model=makeVGG16()\n",
    "model.layers[0].trainable = False\n",
    "model.summary()"
   ]
  },
  {
   "cell_type": "markdown",
   "metadata": {
    "colab_type": "text",
    "id": "gxatVn6oKoIu"
   },
   "source": [
    "***\n",
    "### 2. Train the new top\n",
    "\n",
    "Train the new model (with the frozen VGG layers) over the flower-17 dataset.\n",
    "\n",
    "Dataset: either download the dataset from the Moodle link, or if using google colab, use:\n",
    "\n",
    " `!git clone https://github.com/bouwkast/Flower-CNN.git`\n",
    "\n",
    "\n",
    "Use data augmentation for the training. Remeber to rescale the images `rescale=1./255` and to set the `target_size` of the images to (224,224).\n",
    "\n",
    "(using `RMSProp` you should get 80-90% validatation accuaracy in 20-30 epochs..)\n",
    "\n",
    "Plot loss and accuracy plots (for both train and validation)."
   ]
  },
  {
   "cell_type": "code",
   "execution_count": 9,
   "metadata": {
    "colab": {
     "base_uri": "https://localhost:8080/",
     "height": 107
    },
    "colab_type": "code",
    "id": "ct8UjmGYeIQQ",
    "outputId": "8ead0181-6d07-4066-c228-9a20916d9dc1"
   },
   "outputs": [
    {
     "name": "stdout",
     "output_type": "stream",
     "text": [
      "Cloning into 'Flower-CNN'...\n",
      "remote: Enumerating objects: 1572, done.\u001b[K\n",
      "remote: Total 1572 (delta 0), reused 0 (delta 0), pack-reused 1572\u001b[K\n",
      "Receiving objects: 100% (1572/1572), 138.13 MiB | 45.72 MiB/s, done.\n",
      "Resolving deltas: 100% (71/71), done.\n"
     ]
    }
   ],
   "source": [
    "!git clone https://github.com/bouwkast/Flower-CNN.git"
   ]
  },
  {
   "cell_type": "code",
   "execution_count": 10,
   "metadata": {
    "colab": {
     "base_uri": "https://localhost:8080/",
     "height": 53
    },
    "colab_type": "code",
    "id": "rBHFCMOVKoIu",
    "outputId": "496004f0-2cb6-4dec-940d-12ec7ee3c189"
   },
   "outputs": [
    {
     "name": "stdout",
     "output_type": "stream",
     "text": [
      "Found 1190 images belonging to 17 classes.\n",
      "Found 170 images belonging to 17 classes.\n"
     ]
    }
   ],
   "source": [
    "train_gen=ImageDataGenerator(rescale=1./255,shear_range=0.2,zoom_range=0.2,horizontal_flip=True)\n",
    "test_gen=ImageDataGenerator(rescale=1./255)\n",
    "\n",
    "data_train=train_gen.flow_from_directory(\"/content/Flower-CNN/17_flowers/train\",target_size=(224, 224),batch_size=64)\n",
    "data_test=test_gen.flow_from_directory(\"/content/Flower-CNN/17_flowers/validation\",target_size=(224, 224),batch_size=64)\n"
   ]
  },
  {
   "cell_type": "code",
   "execution_count": 11,
   "metadata": {
    "colab": {
     "base_uri": "https://localhost:8080/",
     "height": 1000
    },
    "colab_type": "code",
    "id": "dnSWngHyiyCA",
    "outputId": "ca3418ce-200b-40df-fb2a-499739a75fec"
   },
   "outputs": [
    {
     "name": "stdout",
     "output_type": "stream",
     "text": [
      "Epoch 1/40\n",
      "31/31 [==============================] - 32s 1s/step - loss: 4.5195 - accuracy: 0.2145 - val_loss: 1.8074 - val_accuracy: 0.3941\n",
      "Epoch 2/40\n",
      "31/31 [==============================] - 32s 1s/step - loss: 1.9975 - accuracy: 0.3742 - val_loss: 1.2972 - val_accuracy: 0.5882\n",
      "Epoch 3/40\n",
      "31/31 [==============================] - 32s 1s/step - loss: 1.6294 - accuracy: 0.4826 - val_loss: 0.8073 - val_accuracy: 0.8044\n",
      "Epoch 4/40\n",
      "31/31 [==============================] - 31s 1s/step - loss: 1.3323 - accuracy: 0.5725 - val_loss: 0.6558 - val_accuracy: 0.8176\n",
      "Epoch 5/40\n",
      "31/31 [==============================] - 31s 1s/step - loss: 1.1444 - accuracy: 0.6325 - val_loss: 0.6956 - val_accuracy: 0.7853\n",
      "Epoch 6/40\n",
      "31/31 [==============================] - 31s 1s/step - loss: 1.0046 - accuracy: 0.6752 - val_loss: 0.4266 - val_accuracy: 0.8588\n",
      "Epoch 7/40\n",
      "31/31 [==============================] - 31s 991ms/step - loss: 0.8838 - accuracy: 0.7091 - val_loss: 0.5870 - val_accuracy: 0.8529\n",
      "Epoch 8/40\n",
      "31/31 [==============================] - 31s 994ms/step - loss: 0.7909 - accuracy: 0.7428 - val_loss: 0.4803 - val_accuracy: 0.8662\n",
      "Epoch 9/40\n",
      "31/31 [==============================] - 31s 995ms/step - loss: 0.7052 - accuracy: 0.7809 - val_loss: 0.4532 - val_accuracy: 0.8574\n",
      "Epoch 10/40\n",
      "31/31 [==============================] - 31s 997ms/step - loss: 0.6739 - accuracy: 0.7764 - val_loss: 0.4131 - val_accuracy: 0.8706\n",
      "Epoch 11/40\n",
      "31/31 [==============================] - 31s 992ms/step - loss: 0.5761 - accuracy: 0.8156 - val_loss: 0.3688 - val_accuracy: 0.8603\n",
      "Epoch 12/40\n",
      "31/31 [==============================] - 31s 994ms/step - loss: 0.5434 - accuracy: 0.8261 - val_loss: 0.4515 - val_accuracy: 0.8750\n",
      "Epoch 13/40\n",
      "31/31 [==============================] - 31s 992ms/step - loss: 0.4803 - accuracy: 0.8390 - val_loss: 0.4340 - val_accuracy: 0.8706\n",
      "Epoch 14/40\n",
      "31/31 [==============================] - 31s 994ms/step - loss: 0.4236 - accuracy: 0.8596 - val_loss: 0.2678 - val_accuracy: 0.9191\n",
      "Epoch 15/40\n",
      "31/31 [==============================] - 30s 983ms/step - loss: 0.4100 - accuracy: 0.8659 - val_loss: 0.3891 - val_accuracy: 0.8868\n",
      "Epoch 16/40\n",
      "31/31 [==============================] - 31s 993ms/step - loss: 0.4198 - accuracy: 0.8551 - val_loss: 0.3146 - val_accuracy: 0.9118\n",
      "Epoch 17/40\n",
      "31/31 [==============================] - 31s 992ms/step - loss: 0.3912 - accuracy: 0.8693 - val_loss: 0.3796 - val_accuracy: 0.8956\n",
      "Epoch 18/40\n",
      "31/31 [==============================] - 31s 985ms/step - loss: 0.3362 - accuracy: 0.8934 - val_loss: 0.4306 - val_accuracy: 0.8971\n",
      "Epoch 19/40\n",
      "31/31 [==============================] - 31s 985ms/step - loss: 0.3542 - accuracy: 0.8861 - val_loss: 0.5679 - val_accuracy: 0.8412\n",
      "Epoch 20/40\n",
      "31/31 [==============================] - 31s 1s/step - loss: 0.3160 - accuracy: 0.8963 - val_loss: 0.3571 - val_accuracy: 0.9000\n",
      "Epoch 21/40\n",
      "31/31 [==============================] - 31s 987ms/step - loss: 0.2868 - accuracy: 0.9001 - val_loss: 0.3495 - val_accuracy: 0.9015\n",
      "Epoch 22/40\n",
      "31/31 [==============================] - 31s 996ms/step - loss: 0.2708 - accuracy: 0.9081 - val_loss: 0.3030 - val_accuracy: 0.9118\n",
      "Epoch 23/40\n",
      "31/31 [==============================] - 31s 989ms/step - loss: 0.2645 - accuracy: 0.9084 - val_loss: 0.3138 - val_accuracy: 0.9074\n",
      "Epoch 24/40\n",
      "31/31 [==============================] - 30s 983ms/step - loss: 0.2549 - accuracy: 0.9177 - val_loss: 0.2914 - val_accuracy: 0.9074\n",
      "Epoch 25/40\n",
      "31/31 [==============================] - 31s 995ms/step - loss: 0.2355 - accuracy: 0.9173 - val_loss: 0.3240 - val_accuracy: 0.8941\n",
      "Epoch 26/40\n",
      "31/31 [==============================] - 31s 988ms/step - loss: 0.2609 - accuracy: 0.9058 - val_loss: 0.3069 - val_accuracy: 0.9074\n",
      "Epoch 27/40\n",
      "31/31 [==============================] - 30s 981ms/step - loss: 0.2155 - accuracy: 0.9343 - val_loss: 0.4795 - val_accuracy: 0.8838\n",
      "Epoch 28/40\n",
      "31/31 [==============================] - 31s 998ms/step - loss: 0.2291 - accuracy: 0.9208 - val_loss: 0.2676 - val_accuracy: 0.9176\n",
      "Epoch 29/40\n",
      "31/31 [==============================] - 31s 992ms/step - loss: 0.2108 - accuracy: 0.9265 - val_loss: 0.2505 - val_accuracy: 0.9132\n",
      "Epoch 30/40\n",
      "31/31 [==============================] - 31s 994ms/step - loss: 0.2073 - accuracy: 0.9295 - val_loss: 0.3159 - val_accuracy: 0.9147\n",
      "Epoch 31/40\n",
      "31/31 [==============================] - 31s 1s/step - loss: 0.2017 - accuracy: 0.9281 - val_loss: 0.4098 - val_accuracy: 0.8941\n",
      "Epoch 32/40\n",
      "31/31 [==============================] - 31s 1s/step - loss: 0.1934 - accuracy: 0.9322 - val_loss: 0.4024 - val_accuracy: 0.9044\n",
      "Epoch 33/40\n",
      "31/31 [==============================] - 31s 1s/step - loss: 0.1814 - accuracy: 0.9362 - val_loss: 0.4678 - val_accuracy: 0.8794\n",
      "Epoch 34/40\n",
      "31/31 [==============================] - 31s 991ms/step - loss: 0.2063 - accuracy: 0.9286 - val_loss: 0.4673 - val_accuracy: 0.8824\n",
      "Epoch 35/40\n",
      "31/31 [==============================] - 30s 982ms/step - loss: 0.1930 - accuracy: 0.9343 - val_loss: 0.3348 - val_accuracy: 0.9132\n",
      "Epoch 36/40\n",
      "31/31 [==============================] - 31s 993ms/step - loss: 0.2389 - accuracy: 0.9168 - val_loss: 0.5406 - val_accuracy: 0.8676\n",
      "Epoch 37/40\n",
      "31/31 [==============================] - 31s 985ms/step - loss: 0.1596 - accuracy: 0.9425 - val_loss: 0.3274 - val_accuracy: 0.9176\n",
      "Epoch 38/40\n",
      "31/31 [==============================] - 31s 990ms/step - loss: 0.1719 - accuracy: 0.9379 - val_loss: 0.3969 - val_accuracy: 0.9118\n",
      "Epoch 39/40\n",
      "31/31 [==============================] - 31s 1000ms/step - loss: 0.1735 - accuracy: 0.9392 - val_loss: 0.4327 - val_accuracy: 0.8882\n",
      "Epoch 40/40\n",
      "31/31 [==============================] - 31s 997ms/step - loss: 0.1674 - accuracy: 0.9446 - val_loss: 0.3356 - val_accuracy: 0.9000\n"
     ]
    }
   ],
   "source": [
    "model2=makeVGG16()\n",
    "model2.compile(loss='categorical_crossentropy', optimizer='RMSprop', metrics=['accuracy'])\n",
    "history2 = model2.fit(data_train,steps_per_epoch=2000//64,  epochs=40,validation_data=(data_test),validation_steps=800//64)\n",
    "model2.save_weights(\"first_try.h5\")"
   ]
  },
  {
   "cell_type": "code",
   "execution_count": 12,
   "metadata": {
    "colab": {
     "base_uri": "https://localhost:8080/",
     "height": 317
    },
    "colab_type": "code",
    "id": "mZj4tlCUwcqW",
    "outputId": "e62e2446-71eb-4ebd-d343-210f267309eb"
   },
   "outputs": [
    {
     "data": {
      "image/png": "[encoded data removed]",
      "text/plain": [
       "<Figure size 432x288 with 1 Axes>"
      ]
     },
     "metadata": {
      "needs_background": "light",
      "tags": []
     },
     "output_type": "display_data"
    }
   ],
   "source": [
    "makeLossGraph(history2)"
   ]
  },
  {
   "cell_type": "code",
   "execution_count": 13,
   "metadata": {
    "colab": {
     "base_uri": "https://localhost:8080/",
     "height": 335
    },
    "colab_type": "code",
    "id": "PYx3UQeWwlog",
    "outputId": "9739f034-1cd9-4d98-8ca7-f27c377408c2"
   },
   "outputs": [
    {
     "name": "stderr",
     "output_type": "stream",
     "text": [
      "No handles with labels found to put in legend.\n"
     ]
    },
    {
     "data": {
      "image/png": "[encoded data removed]",
      "text/plain": [
       "<Figure size 432x288 with 1 Axes>"
      ]
     },
     "metadata": {
      "needs_background": "light",
      "tags": []
     },
     "output_type": "display_data"
    }
   ],
   "source": [
    "makeAccGraph(history2)"
   ]
  },
  {
   "cell_type": "markdown",
   "metadata": {
    "colab_type": "text",
    "id": "DxdS73M8KoIx"
   },
   "source": [
    "***\n",
    "### 3. Fine tune all params\n",
    "\n",
    "At this point, you can 'unfreeze' the VGG layers and continue the training process (with slower learning rate) to get better results.\n",
    "\n",
    "(using `SGD(lr=0.0001, momentum=0.9)` you should get over 90% validatation accuaracy in 20-30 epochs..)\n",
    "\n",
    "Plot loss and accuracy plots (for both train and validation)."
   ]
  },
  {
   "cell_type": "code",
   "execution_count": 14,
   "metadata": {
    "colab": {
     "base_uri": "https://localhost:8080/",
     "height": 1000
    },
    "colab_type": "code",
    "id": "OBPoUfSNKoIx",
    "outputId": "e1267d24-da87-44a8-886b-9550564707d9"
   },
   "outputs": [
    {
     "name": "stdout",
     "output_type": "stream",
     "text": [
      "Epoch 1/40\n",
      "31/31 [==============================] - 34s 1s/step - loss: 0.0911 - accuracy: 0.9694 - val_loss: 0.2556 - val_accuracy: 0.9397\n",
      "Epoch 2/40\n",
      "31/31 [==============================] - 34s 1s/step - loss: 0.1026 - accuracy: 0.9658 - val_loss: 0.2753 - val_accuracy: 0.9118\n",
      "Epoch 3/40\n",
      "31/31 [==============================] - 34s 1s/step - loss: 0.0836 - accuracy: 0.9736 - val_loss: 0.2104 - val_accuracy: 0.9412\n",
      "Epoch 4/40\n",
      "31/31 [==============================] - 35s 1s/step - loss: 0.0613 - accuracy: 0.9780 - val_loss: 0.2249 - val_accuracy: 0.9426\n",
      "Epoch 5/40\n",
      "31/31 [==============================] - 34s 1s/step - loss: 0.0711 - accuracy: 0.9767 - val_loss: 0.1969 - val_accuracy: 0.9338\n",
      "Epoch 6/40\n",
      "31/31 [==============================] - 34s 1s/step - loss: 0.0618 - accuracy: 0.9798 - val_loss: 0.3218 - val_accuracy: 0.9235\n",
      "Epoch 7/40\n",
      "31/31 [==============================] - 35s 1s/step - loss: 0.0632 - accuracy: 0.9796 - val_loss: 0.2072 - val_accuracy: 0.9353\n",
      "Epoch 8/40\n",
      "31/31 [==============================] - 34s 1s/step - loss: 0.0534 - accuracy: 0.9788 - val_loss: 0.2264 - val_accuracy: 0.9324\n",
      "Epoch 9/40\n",
      "31/31 [==============================] - 34s 1s/step - loss: 0.0737 - accuracy: 0.9777 - val_loss: 0.2387 - val_accuracy: 0.9353\n",
      "Epoch 10/40\n",
      "31/31 [==============================] - 34s 1s/step - loss: 0.0651 - accuracy: 0.9775 - val_loss: 0.2261 - val_accuracy: 0.9382\n",
      "Epoch 11/40\n",
      "31/31 [==============================] - 35s 1s/step - loss: 0.0619 - accuracy: 0.9803 - val_loss: 0.3380 - val_accuracy: 0.9103\n",
      "Epoch 12/40\n",
      "31/31 [==============================] - 36s 1s/step - loss: 0.0727 - accuracy: 0.9775 - val_loss: 0.2484 - val_accuracy: 0.9176\n",
      "Epoch 13/40\n",
      "31/31 [==============================] - 35s 1s/step - loss: 0.0599 - accuracy: 0.9762 - val_loss: 0.2974 - val_accuracy: 0.9000\n",
      "Epoch 14/40\n",
      "31/31 [==============================] - 34s 1s/step - loss: 0.0512 - accuracy: 0.9814 - val_loss: 0.3707 - val_accuracy: 0.9044\n",
      "Epoch 15/40\n",
      "31/31 [==============================] - 35s 1s/step - loss: 0.0638 - accuracy: 0.9780 - val_loss: 0.2285 - val_accuracy: 0.9235\n",
      "Epoch 16/40\n",
      "31/31 [==============================] - 35s 1s/step - loss: 0.0467 - accuracy: 0.9808 - val_loss: 0.2439 - val_accuracy: 0.9500\n",
      "Epoch 17/40\n",
      "31/31 [==============================] - 35s 1s/step - loss: 0.0571 - accuracy: 0.9762 - val_loss: 0.2449 - val_accuracy: 0.9397\n",
      "Epoch 18/40\n",
      "31/31 [==============================] - 36s 1s/step - loss: 0.0498 - accuracy: 0.9857 - val_loss: 0.2628 - val_accuracy: 0.9235\n",
      "Epoch 19/40\n",
      "31/31 [==============================] - 35s 1s/step - loss: 0.0489 - accuracy: 0.9829 - val_loss: 0.2804 - val_accuracy: 0.9441\n",
      "Epoch 20/40\n",
      "31/31 [==============================] - 35s 1s/step - loss: 0.0569 - accuracy: 0.9801 - val_loss: 0.2293 - val_accuracy: 0.9456\n",
      "Epoch 21/40\n",
      "31/31 [==============================] - 35s 1s/step - loss: 0.0553 - accuracy: 0.9840 - val_loss: 0.1816 - val_accuracy: 0.9353\n",
      "Epoch 22/40\n",
      "31/31 [==============================] - 35s 1s/step - loss: 0.0479 - accuracy: 0.9814 - val_loss: 0.2862 - val_accuracy: 0.9353\n",
      "Epoch 23/40\n",
      "31/31 [==============================] - 35s 1s/step - loss: 0.0402 - accuracy: 0.9857 - val_loss: 0.2029 - val_accuracy: 0.9544\n",
      "Epoch 24/40\n",
      "31/31 [==============================] - 35s 1s/step - loss: 0.0487 - accuracy: 0.9829 - val_loss: 0.2601 - val_accuracy: 0.9294\n",
      "Epoch 25/40\n",
      "31/31 [==============================] - 34s 1s/step - loss: 0.0441 - accuracy: 0.9876 - val_loss: 0.2477 - val_accuracy: 0.9515\n",
      "Epoch 26/40\n",
      "31/31 [==============================] - 35s 1s/step - loss: 0.0455 - accuracy: 0.9852 - val_loss: 0.2361 - val_accuracy: 0.9426\n",
      "Epoch 27/40\n",
      "31/31 [==============================] - 34s 1s/step - loss: 0.0466 - accuracy: 0.9834 - val_loss: 0.2195 - val_accuracy: 0.9412\n",
      "Epoch 28/40\n",
      "31/31 [==============================] - 34s 1s/step - loss: 0.0482 - accuracy: 0.9834 - val_loss: 0.1913 - val_accuracy: 0.9412\n",
      "Epoch 29/40\n",
      "31/31 [==============================] - 35s 1s/step - loss: 0.0567 - accuracy: 0.9806 - val_loss: 0.2020 - val_accuracy: 0.9412\n",
      "Epoch 30/40\n",
      "31/31 [==============================] - 34s 1s/step - loss: 0.0468 - accuracy: 0.9840 - val_loss: 0.2119 - val_accuracy: 0.9471\n",
      "Epoch 31/40\n",
      "31/31 [==============================] - 35s 1s/step - loss: 0.0369 - accuracy: 0.9862 - val_loss: 0.3061 - val_accuracy: 0.9235\n",
      "Epoch 32/40\n",
      "31/31 [==============================] - 34s 1s/step - loss: 0.0505 - accuracy: 0.9803 - val_loss: 0.2649 - val_accuracy: 0.9294\n",
      "Epoch 33/40\n",
      "31/31 [==============================] - 34s 1s/step - loss: 0.0568 - accuracy: 0.9788 - val_loss: 0.3011 - val_accuracy: 0.9176\n",
      "Epoch 34/40\n",
      "31/31 [==============================] - 35s 1s/step - loss: 0.0356 - accuracy: 0.9898 - val_loss: 0.2625 - val_accuracy: 0.9235\n",
      "Epoch 35/40\n",
      "31/31 [==============================] - 34s 1s/step - loss: 0.0363 - accuracy: 0.9881 - val_loss: 0.2410 - val_accuracy: 0.9471\n",
      "Epoch 36/40\n",
      "31/31 [==============================] - 34s 1s/step - loss: 0.0397 - accuracy: 0.9850 - val_loss: 0.2458 - val_accuracy: 0.9294\n",
      "Epoch 37/40\n",
      "31/31 [==============================] - 34s 1s/step - loss: 0.0377 - accuracy: 0.9893 - val_loss: 0.2253 - val_accuracy: 0.9397\n",
      "Epoch 38/40\n",
      "31/31 [==============================] - 34s 1s/step - loss: 0.0340 - accuracy: 0.9871 - val_loss: 0.1706 - val_accuracy: 0.9515\n",
      "Epoch 39/40\n",
      "31/31 [==============================] - 34s 1s/step - loss: 0.0283 - accuracy: 0.9918 - val_loss: 0.2796 - val_accuracy: 0.9353\n",
      "Epoch 40/40\n",
      "31/31 [==============================] - 34s 1s/step - loss: 0.0295 - accuracy: 0.9881 - val_loss: 0.2236 - val_accuracy: 0.9456\n"
     ]
    }
   ],
   "source": [
    "model2.layers[0].trainable = True\n",
    "opt=keras.optimizers.SGD(lr=0.0001,momentum=0.9)\n",
    "model2.compile(loss='categorical_crossentropy', optimizer=opt, metrics=['accuracy'])\n",
    "history2 = model2.fit(data_train,steps_per_epoch=2000//64,  epochs=40,validation_data=(data_test),validation_steps=800//64)\n"
   ]
  },
  {
   "cell_type": "code",
   "execution_count": 15,
   "metadata": {
    "colab": {
     "base_uri": "https://localhost:8080/",
     "height": 317
    },
    "colab_type": "code",
    "id": "MoMyD4YhXXq3",
    "outputId": "51562201-0406-4da4-b01f-8e18379f2640"
   },
   "outputs": [
    {
     "data": {
      "image/png": "[encoded data removed]",
      "text/plain": [
       "<Figure size 432x288 with 1 Axes>"
      ]
     },
     "metadata": {
      "needs_background": "light",
      "tags": []
     },
     "output_type": "display_data"
    }
   ],
   "source": [
    "makeLossGraph(history2)"
   ]
  },
  {
   "cell_type": "code",
   "execution_count": 16,
   "metadata": {
    "colab": {
     "base_uri": "https://localhost:8080/",
     "height": 335
    },
    "colab_type": "code",
    "id": "c2tfqXDqXbbI",
    "outputId": "f6350378-e068-4d56-e8d2-48b2d54c842c"
   },
   "outputs": [
    {
     "name": "stderr",
     "output_type": "stream",
     "text": [
      "No handles with labels found to put in legend.\n"
     ]
    },
    {
     "data": {
      "image/png": "[encoded data removed]",
      "text/plain": [
       "<Figure size 432x288 with 1 Axes>"
      ]
     },
     "metadata": {
      "needs_background": "light",
      "tags": []
     },
     "output_type": "display_data"
    }
   ],
   "source": [
    "makeAccGraph(history2)"
   ]
  },
  {
   "cell_type": "markdown",
   "metadata": {
    "colab_type": "text",
    "id": "JnBSzKjtKoI0"
   },
   "source": [
    "***\n",
    "## Good Luck!"
   ]
  }
 ],
 "metadata": {
  "accelerator": "GPU",
  "colab": {
   "name": "dnn_ex8.ipynb",
   "provenance": []
  },
  "kernelspec": {
   "display_name": "Python 3",
   "language": "python",
   "name": "python3"
  },
  "language_info": {
   "codemirror_mode": {
    "name": "ipython",
    "version": 3
   },
   "file_extension": ".py",
   "mimetype": "text/x-python",
   "name": "python",
   "nbconvert_exporter": "python",
   "pygments_lexer": "ipython3",
   "version": "3.7.5"
  }
 },
 "nbformat": 4,
 "nbformat_minor": 4
}
